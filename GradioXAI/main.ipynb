{
 "cells": [
  {
   "cell_type": "code",
   "execution_count": 1,
   "id": "1d4f4822",
   "metadata": {},
   "outputs": [
    {
     "name": "stdout",
     "output_type": "stream",
     "text": [
      "📁 Current Working Directory: c:\\Users\\HFX1KOR\\Desktop\\gradio\\GradioXAI\n",
      "📂 Contents of ./models: ['densenet201_weights_tf_dim_ordering_tf_kernels_notop.h5', 'densenet_checkpoint.weights.h5']\n"
     ]
    },
    {
     "name": "stderr",
     "output_type": "stream",
     "text": [
      "__init__.py (36): h5py is running against HDF5 1.14.5 when it was built against 1.14.6, this may cause problems\n"
     ]
    },
    {
     "name": "stdout",
     "output_type": "stream",
     "text": [
      "* Running on local URL:  http://127.0.0.1:7860\n",
      "* To create a public link, set `share=True` in `launch()`.\n"
     ]
    },
    {
     "data": {
      "text/html": [
       "<div><iframe src=\"http://127.0.0.1:7860/\" width=\"100%\" height=\"500\" allow=\"autoplay; camera; microphone; clipboard-read; clipboard-write;\" frameborder=\"0\" allowfullscreen></iframe></div>"
      ],
      "text/plain": [
       "<IPython.core.display.HTML object>"
      ]
     },
     "metadata": {},
     "output_type": "display_data"
    },
    {
     "data": {
      "text/plain": []
     },
     "execution_count": 1,
     "metadata": {},
     "output_type": "execute_result"
    },
    {
     "name": "stderr",
     "output_type": "stream",
     "text": [
      "Traceback (most recent call last):\n",
      "  File \"c:\\Users\\HFX1KOR\\.conda\\envs\\cervical_env\\lib\\site-packages\\gradio\\queueing.py\", line 625, in process_events\n",
      "    response = await route_utils.call_process_api(\n",
      "  File \"c:\\Users\\HFX1KOR\\.conda\\envs\\cervical_env\\lib\\site-packages\\gradio\\route_utils.py\", line 322, in call_process_api\n",
      "    output = await app.get_blocks().process_api(\n",
      "  File \"c:\\Users\\HFX1KOR\\.conda\\envs\\cervical_env\\lib\\site-packages\\gradio\\blocks.py\", line 2220, in process_api\n",
      "    result = await self.call_function(\n",
      "  File \"c:\\Users\\HFX1KOR\\.conda\\envs\\cervical_env\\lib\\site-packages\\gradio\\blocks.py\", line 1731, in call_function\n",
      "    prediction = await anyio.to_thread.run_sync(  # type: ignore\n",
      "  File \"c:\\Users\\HFX1KOR\\.conda\\envs\\cervical_env\\lib\\site-packages\\anyio\\to_thread.py\", line 56, in run_sync\n",
      "    return await get_async_backend().run_sync_in_worker_thread(\n",
      "  File \"c:\\Users\\HFX1KOR\\.conda\\envs\\cervical_env\\lib\\site-packages\\anyio\\_backends\\_asyncio.py\", line 2505, in run_sync_in_worker_thread\n",
      "    return await future\n",
      "  File \"c:\\Users\\HFX1KOR\\.conda\\envs\\cervical_env\\lib\\site-packages\\anyio\\_backends\\_asyncio.py\", line 1005, in run\n",
      "    result = context.run(func, *args)\n",
      "  File \"c:\\Users\\HFX1KOR\\.conda\\envs\\cervical_env\\lib\\site-packages\\gradio\\utils.py\", line 904, in wrapper\n",
      "    response = f(*args, **kwargs)\n",
      "  File \"C:\\Users\\HFX1KOR\\AppData\\Local\\Temp\\ipykernel_17268\\472860022.py\", line 26, in analyze_slide\n",
      "    overlay_img, results = evaluate_image(temp_path, MODEL_WEIGHTS_PATH, STARDIST_MODEL_DIR)\n",
      "  File \"c:\\Users\\HFX1KOR\\Desktop\\gradio\\GradioXAI\\pipeline\\evaluator.py\", line 166, in evaluate_image\n",
      "    model = build_densenet_model(model_weights_path, num_classes=len(CLASS_NAMES))\n",
      "  File \"c:\\Users\\HFX1KOR\\Desktop\\gradio\\GradioXAI\\pipeline\\evaluator.py\", line 56, in build_densenet_model\n",
      "    model.load_weights(weights_path)\n",
      "  File \"c:\\Users\\HFX1KOR\\.conda\\envs\\cervical_env\\lib\\site-packages\\keras\\utils\\traceback_utils.py\", line 70, in error_handler\n",
      "    raise e.with_traceback(filtered_tb) from None\n",
      "  File \"c:\\Users\\HFX1KOR\\.conda\\envs\\cervical_env\\lib\\site-packages\\keras\\saving\\hdf5_format.py\", line 817, in load_weights_from_hdf5_group\n",
      "    raise ValueError(\n",
      "ValueError: Layer count mismatch when loading weights from file. Model expected 404 layers, found 401 saved layers.\n"
     ]
    }
   ],
   "source": [
    "import gradio as gr\n",
    "import datetime\n",
    "from PIL import Image\n",
    "import tempfile\n",
    "import cv2\n",
    "import os\n",
    "print(\"📁 Current Working Directory:\", os.getcwd())\n",
    "print(\"📂 Contents of ./models:\", os.listdir(\"models\"))\n",
    "\n",
    "\n",
    "# Import your evaluation function\n",
    "from pipeline.evaluator import evaluate_image\n",
    "\n",
    "# === CONFIG ===\n",
    "MODEL_WEIGHTS_PATH = r\"models\\densenet201_weights_tf_dim_ordering_tf_kernels_notop.h5\"\n",
    "STARDIST_MODEL_DIR = os.path.join(\"stardist_model\")\n",
    "\n",
    "# === ANALYSIS FUNCTION ===\n",
    "def analyze_slide(patient_id, slide_id, image):\n",
    "    # Save uploaded image temporarily\n",
    "    with tempfile.NamedTemporaryFile(suffix=\".jpg\", delete=False) as temp:\n",
    "        image.save(temp.name)\n",
    "        temp_path = temp.name\n",
    "\n",
    "    # Run the pipeline\n",
    "    overlay_img, results = evaluate_image(temp_path, MODEL_WEIGHTS_PATH, STARDIST_MODEL_DIR)\n",
    "\n",
    "    # Clean up input file (optional)\n",
    "    os.remove(temp_path)\n",
    "\n",
    "    if results is None:\n",
    "        prediction = \"Normal\"\n",
    "        alert_msg = \"✅ No abnormality detected.\"\n",
    "        cell_distribution = {\n",
    "            \"Normal\": 1, \"Low Grade\": 0, \"High Grade\": 0, \"Cancer\": 0\n",
    "        }\n",
    "    else:\n",
    "        prediction = results[\"majority_class\"].replace(\"_\", \" \").capitalize()\n",
    "        alert_msg = results[\"alert_message\"]\n",
    "        cell_distribution = results[\"class_counts\"]\n",
    "\n",
    "    # Current date\n",
    "    date_today = datetime.datetime.now().strftime(\"%d %b %Y\")\n",
    "\n",
    "    # Summary text\n",
    "    llm_summary = f\"\"\"Analysis Summary:\n",
    "- Cervical LBC smear indicates {prediction.lower()} features.\n",
    "- Immediate review recommended.\"\"\" if prediction != \"Normal\" else \\\n",
    "    \"Analysis Summary:\\n- No abnormal cells detected.\\n- Routine follow-up advised.\"\n",
    "\n",
    "    # Cell-wise breakdown\n",
    "    classwise_output = (\n",
    "        f\"Normal Cells: {cell_distribution.get('normal', 0)}\\n\"\n",
    "        f\"Low Grade Cells: {cell_distribution.get('low_grade', 0)}\\n\"\n",
    "        f\"High Grade Cells: {cell_distribution.get('high_grade', 0)}\\n\"\n",
    "        f\"Cancerous Cells: {cell_distribution.get('cancer', 0)}\"\n",
    "    )\n",
    "\n",
    "    # Convert overlayed image to PIL for display\n",
    "    overlay_pil = Image.fromarray(cv2.cvtColor(overlay_img, cv2.COLOR_BGR2RGB))\n",
    "\n",
    "    return (\n",
    "        date_today,\n",
    "        patient_id,\n",
    "        slide_id,\n",
    "        prediction,\n",
    "        overlay_pil,\n",
    "        alert_msg,\n",
    "        classwise_output,\n",
    "        llm_summary\n",
    "    )\n",
    "\n",
    "# === GRADIO UI ===\n",
    "with gr.Blocks(css=\"styles.css\") as demo:\n",
    "    gr.Markdown(\"# 🧪 Cervical Cytology AI Analysis Tool\")\n",
    " \n",
    "    with gr.Row():\n",
    "        # LEFT PANEL\n",
    "        with gr.Column(scale=1):\n",
    "            gr.Markdown(\"### 📤 Upload Cervical LBC Slide and Patient Details\")\n",
    "\n",
    "            with gr.Row():\n",
    "                patient_id = gr.Textbox(label=\"Patient ID\", placeholder=\"e.g. P01033\")\n",
    "                slide_id = gr.Textbox(label=\"Slide ID\", placeholder=\"e.g. SL1706\")\n",
    "\n",
    "            image_input = gr.Image(label=\"Upload Slide Image (LBC only)\", type=\"pil\")\n",
    "\n",
    "            analyze_btn = gr.Button(\"🔍 Analyze Slide\")\n",
    "            alert_output = gr.Textbox(label=\"Alert Message\", lines=1, interactive=False)\n",
    "\n",
    "            llm_output = gr.Textbox(label=\"LLM-generated Analysis\", lines=6, interactive=False)\n",
    "\n",
    "        # RIGHT PANEL\n",
    "        with gr.Column(scale=1):\n",
    "            date_output = gr.Textbox(label=\"Date\", interactive=False)\n",
    "\n",
    "            with gr.Row():\n",
    "                patient_id_display = gr.Textbox(label=\"Patient ID\", interactive=False)\n",
    "                slide_id_display = gr.Textbox(label=\"Slide ID\", interactive=False)\n",
    "\n",
    "            prediction_output = gr.Textbox(label=\"Prediction\", interactive=False, elem_id=\"prediction-box\")\n",
    "\n",
    "            image_output = gr.Image(label=\"Overlayed Cytology Image\")\n",
    "\n",
    "            cell_dist_output = gr.Textbox(label=\"Cell Type Distribution\", lines=6, interactive=False)\n",
    "\n",
    "    # Button event binding\n",
    "    analyze_btn.click(\n",
    "        fn=analyze_slide,\n",
    "        inputs=[patient_id, slide_id, image_input],\n",
    "        outputs=[\n",
    "            date_output,\n",
    "            patient_id_display,\n",
    "            slide_id_display,\n",
    "            prediction_output,\n",
    "            image_output,\n",
    "            alert_output,\n",
    "            cell_dist_output,\n",
    "            llm_output\n",
    "        ]\n",
    "    )\n",
    "\n",
    "# Run the Gradio app\n",
    "demo.launch()\n"
   ]
  },
  {
   "cell_type": "code",
   "execution_count": null,
   "id": "bbc422a2",
   "metadata": {},
   "outputs": [],
   "source": []
  }
 ],
 "metadata": {
  "kernelspec": {
   "display_name": "Python 3",
   "language": "python",
   "name": "python3"
  },
  "language_info": {
   "codemirror_mode": {
    "name": "ipython",
    "version": 3
   },
   "file_extension": ".py",
   "mimetype": "text/x-python",
   "name": "python",
   "nbconvert_exporter": "python",
   "pygments_lexer": "ipython3",
   "version": "3.10.16"
  }
 },
 "nbformat": 4,
 "nbformat_minor": 5
}
